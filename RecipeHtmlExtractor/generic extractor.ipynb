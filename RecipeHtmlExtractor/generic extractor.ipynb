{
 "cells": [
  {
   "cell_type": "code",
   "execution_count": 1,
   "id": "ff949940",
   "metadata": {},
   "outputs": [],
   "source": [
    "import re\n",
    "import pandas as pd\n",
    "import numpy as np\n",
    "import os"
   ]
  },
  {
   "cell_type": "code",
   "execution_count": 30,
   "id": "da4d6513",
   "metadata": {},
   "outputs": [],
   "source": [
    "EXTRACT_PATTERNS = {\n",
    "  \"bbc_food\": {\n",
    "      \"title\" : [\n",
    "          {\n",
    "              \"findall\" : \"<h1 class=\\\"gel-trafalgar content-title__text\\\".*?>(.+?)</h1>\"\n",
    "              \n",
    "          }\n",
    "      ],\n",
    "      \"servings\" : [\n",
    "          {\n",
    "              \"findall\" : \"<p class=\\\"recipe-metadata__serving\\\".*?>(.+?)</p>\"\n",
    "          },\n",
    "          {\n",
    "              \"sub\" : (\"[^0-9]\", \"\"),\n",
    "          }\n",
    "      ],\n",
    "      \"ingredients\" : [\n",
    "          {\n",
    "              \"findall\" : \"<ul class=\\\"recipe-ingredients__list\\\".*?>(.+?)</ul>\"\n",
    "          },\n",
    "          {\n",
    "              \"sub\" : (\"</li>\", \"\\n\"),\n",
    "          },\n",
    "          {\n",
    "              \"sub\" : (\"<[^>]*>\", \"\"),\n",
    "          }\n",
    "      ],\n",
    "      \"steps\" : [\n",
    "          {\n",
    "              \"findall\" : \"<ol class=\\\"recipe-method__list\\\".*?>(.+?)</ol>\"\n",
    "          },\n",
    "          {\n",
    "              \"sub\" : (\"</li>\", \"\\n\"),\n",
    "          },\n",
    "          {\n",
    "              \"sub\" : (\"<[^>]*>\", \"\"),\n",
    "          }\n",
    "      ],\n",
    "      \"country\" : {}\n",
    "  }\n",
    "}\n"
   ]
  },
  {
   "cell_type": "code",
   "execution_count": 18,
   "id": "f3b09fe5",
   "metadata": {},
   "outputs": [],
   "source": [
    "def applyCustomRegex(regexType, regexPattern, text):\n",
    "    if regexType == \"findall\":\n",
    "        t = re.findall(regexPattern, text)[0]\n",
    "        return t\n",
    "    elif regexType == \"sub\":\n",
    "        pattern = regexPattern[0]\n",
    "        replaceWith = regexPattern[1]\n",
    "        t = re.sub(pattern, replaceWith,text)\n",
    "        return t"
   ]
  },
  {
   "cell_type": "code",
   "execution_count": 28,
   "id": "61812c41",
   "metadata": {},
   "outputs": [],
   "source": [
    "def getTitleFromSiteContent(title_patterns, site_content):\n",
    "    content = site_content\n",
    "    for step in title_patterns:\n",
    "        for key, value in step.items():\n",
    "            content = applyCustomRegex(key, value, content)\n",
    "    return content\n",
    "\n",
    "def getServingsFromSiteContent(title_patterns, site_content):\n",
    "    content = site_content\n",
    "    for step in title_patterns:\n",
    "        for key, value in step.items():\n",
    "            content = applyCustomRegex(key, value, content)\n",
    "    return content"
   ]
  },
  {
   "cell_type": "code",
   "execution_count": 31,
   "id": "6a0e3b22",
   "metadata": {},
   "outputs": [
    {
     "name": "stdout",
     "output_type": "stream",
     "text": [
      "Amaretto semifreddo with roasted peaches\n",
      "6\n"
     ]
    }
   ],
   "source": [
    "#https://medium.com/spark-nlp/cleaning-and-extracting-content-from-html-xml-documents-using-spark-nlp-documentnormalizer-913d96b2ee34\n",
    "\n",
    "html_path = r\"C:\\Users\\william.brach\\Developer\\Recipe-Extractor\\RecipeLinkCrawler\\DATA\\Amaretto semifreddo with roasted peaches recipe - BBC Food.html\"\n",
    "with open(html_path, \"r\", encoding='utf-8') as f:\n",
    "    #site content\n",
    "    site_content = f.read()\n",
    "    # all patterns for site\n",
    "    site_patterns = EXTRACT_PATTERNS['bbc_food']\n",
    "\n",
    "    # title\n",
    "    title_patterns = site_patterns['title']\n",
    "\n",
    "    # number of servings\n",
    "    servings_patterns = site_patterns['servings']\n",
    "\n",
    "    # list of ingredients\n",
    "    ingredients_patterns = site_patterns['ingredients']\n",
    "\n",
    "    # list of steps for recipe\n",
    "    steps_patterns = site_patterns['steps']\n",
    "\n",
    "    # county of origin\n",
    "    country_patterns = site_patterns['country']\n",
    "\n",
    "    title = getTitleFromSiteContent(title_patterns, site_content)\n",
    "    print(title)\n",
    "    servings = getTitleFromSiteContent(servings_patterns, site_content)\n",
    "    print(servings)\n",
    "\n",
    "\n",
    "\n"
   ]
  }
 ],
 "metadata": {
  "kernelspec": {
   "display_name": "Python 3",
   "language": "python",
   "name": "python3"
  },
  "language_info": {
   "codemirror_mode": {
    "name": "ipython",
    "version": 3
   },
   "file_extension": ".py",
   "mimetype": "text/x-python",
   "name": "python",
   "nbconvert_exporter": "python",
   "pygments_lexer": "ipython3",
   "version": "3.8.11"
  }
 },
 "nbformat": 4,
 "nbformat_minor": 5
}
