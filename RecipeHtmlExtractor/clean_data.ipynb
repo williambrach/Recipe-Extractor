{
 "cells": [
  {
   "cell_type": "code",
   "execution_count": 1,
   "metadata": {},
   "outputs": [],
   "source": [
    "import pandas as pd\n",
    "import re\n",
    "import os\n",
    "from os.path import exists"
   ]
  },
  {
   "cell_type": "code",
   "execution_count": 4,
   "metadata": {},
   "outputs": [],
   "source": [
    "def checkIfFileExists(name):\n",
    "    file_dir = \"DATA/\"+name+\"/\"\n",
    "    for file in os.listdir(file_dir):\n",
    "        try:\n",
    "            if file.endswith(\".html\"):\n",
    "                    if len(df[df['title'].str.contains(file.split(\".html\")[0])]) < 1:\n",
    "                        os.remove(os.path.join(file_dir, file))\n",
    "        except:\n",
    "            print(file)"
   ]
  },
  {
   "cell_type": "markdown",
   "metadata": {},
   "source": [
    "# BCC FOOD cleaning"
   ]
  },
  {
   "cell_type": "code",
   "execution_count": 105,
   "metadata": {},
   "outputs": [],
   "source": [
    "df = pd.read_csv(\"DATA/bbc/bbc_food.csv\", delimiter=\"\\t\")\n",
    "df = df.drop_duplicates(subset=['title'])\n",
    "df = df.drop(df[df['title'].str.contains(\"shopping list\")].index)\n",
    "df = df.drop(df[df['title'].str.contains(\"Recipes | A - BBC Food\")].index)\n",
    "df['title_clean'] = df['title'].apply(lambda x : re.sub(r\"[^a-zA-Z- ]\",\"\",x))\n",
    "df['source'] = 'BBC FOOD'\n",
    "df['path_to_file'] = df['path_to_file'].apply(lambda x: x.replace(\"//\", \"/\"))\n",
    "df['exists_file'] = df['path_to_file'].apply(lambda x: exists(x.replace(\"./\",\"\")))\n",
    "df = df.drop(df[df['exists_file'] == False].index)"
   ]
  },
  {
   "cell_type": "code",
   "execution_count": 106,
   "metadata": {},
   "outputs": [
    {
     "name": "stderr",
     "output_type": "stream",
     "text": [
      "C:\\Users\\ramang\\AppData\\Roaming\\Python\\Python38\\site-packages\\pandas\\core\\strings\\accessor.py:101: UserWarning: This pattern has match groups. To actually get the groups, use str.extract.\n",
      "  return func(self, *args, **kwargs)\n"
     ]
    }
   ],
   "source": [
    "checkIfFileExists(\"bbc\")"
   ]
  },
  {
   "cell_type": "code",
   "execution_count": 107,
   "metadata": {},
   "outputs": [],
   "source": [
    "df = df.reset_index(drop=True)\n",
    "df.to_csv(\"cleaned_csv/bbc_food_clean.csv\",sep=\"\\t\")"
   ]
  },
  {
   "cell_type": "markdown",
   "metadata": {},
   "source": [
    "# BRITISH cleaning"
   ]
  },
  {
   "cell_type": "code",
   "execution_count": 11,
   "metadata": {},
   "outputs": [],
   "source": [
    "df = pd.read_csv(\"DATA/british/british_food.csv\", delimiter=\"\\t\")\n",
    "df = df.drop_duplicates(subset=['title'])\n",
    "df = df.drop(df[df['title'].str.contains(\"Shopping List\")].index)\n",
    "df = df.drop(df[df['title'].str.contains(\"Print Recipe\")].index)\n",
    "df['title_clean'] = df['title'].apply(lambda x : re.sub(r\"[^a-zA-Z- ]\",\"\",x))\n",
    "df['source'] = 'British'\n",
    "df['path_to_file'] = df['path_to_file'].apply(lambda x: x.replace(\"//\", \"/\"))\n",
    "df['exists_file'] = df['path_to_file'].apply(lambda x: exists(x.replace(\"./\",\"\")))\n",
    "df = df.drop(df[df['exists_file'] == False].index)"
   ]
  },
  {
   "cell_type": "code",
   "execution_count": 12,
   "metadata": {},
   "outputs": [],
   "source": [
    "checkIfFileExists(\"british\")"
   ]
  },
  {
   "cell_type": "code",
   "execution_count": 13,
   "metadata": {},
   "outputs": [],
   "source": [
    "df = df.reset_index(drop=True)\n",
    "df.to_csv(\"cleaned_csv/british_food_clean.csv\",sep=\"\\t\")"
   ]
  },
  {
   "cell_type": "markdown",
   "metadata": {},
   "source": [
    "# ITALIAN cleaning"
   ]
  },
  {
   "cell_type": "code",
   "execution_count": 14,
   "metadata": {},
   "outputs": [],
   "source": [
    "df = pd.read_csv(\"DATA/italian/italian_food.csv\", delimiter=\"\\t\")\n",
    "df = df.drop_duplicates(subset=['title'])\n",
    "df = df.drop(df[df['title'].str.contains(\"Shopping List\")].index)\n",
    "df = df.drop(df[df['title'].str.contains(\"Print Recipe\")].index)\n",
    "df['title_clean'] = df['title'].apply(lambda x : re.sub(r\"[^a-zA-Z- ]\",\"\",x))\n",
    "df['source'] = 'Italian'\n",
    "df['path_to_file'] = df['path_to_file'].apply(lambda x: x.replace(\"//\", \"/\"))\n",
    "df['exists_file'] = df['path_to_file'].apply(lambda x: exists(x.replace(\"./\",\"\")))\n",
    "df = df.drop(df[df['exists_file'] == False].index)"
   ]
  },
  {
   "cell_type": "code",
   "execution_count": 15,
   "metadata": {},
   "outputs": [],
   "source": [
    "checkIfFileExists(\"italian\")"
   ]
  },
  {
   "cell_type": "code",
   "execution_count": 16,
   "metadata": {},
   "outputs": [],
   "source": [
    "df = df.reset_index(drop=True)\n",
    "df.to_csv(\"cleaned_csv/italian_food_clean.csv\",sep=\"\\t\")"
   ]
  },
  {
   "cell_type": "markdown",
   "metadata": {},
   "source": [
    "# EPIC cleaning"
   ]
  },
  {
   "cell_type": "code",
   "execution_count": 114,
   "metadata": {},
   "outputs": [],
   "source": [
    "df = pd.read_csv(\"DATA/epic/epic_food.csv\", delimiter=\"\\t\")\n",
    "df = df.drop_duplicates(subset=['title'])\n",
    "df['title_clean'] = df['title'].apply(lambda x : re.sub(r\"[^a-zA-Z- ]\",\"\",x))\n",
    "df['source'] = 'Epic'\n",
    "df['path_to_file'] = df['path_to_file'].apply(lambda x: x.replace(\"//\", \"/\"))\n",
    "df['exists_file'] = df['path_to_file'].apply(lambda x: exists(x.replace(\"./\",\"\")))\n",
    "df = df.drop(df[df['exists_file'] == False].index)"
   ]
  },
  {
   "cell_type": "code",
   "execution_count": 116,
   "metadata": {},
   "outputs": [],
   "source": [
    "checkIfFileExists(\"epic\")"
   ]
  },
  {
   "cell_type": "code",
   "execution_count": 117,
   "metadata": {},
   "outputs": [],
   "source": [
    "df = df.reset_index(drop=True)\n",
    "df.to_csv(\"cleaned_csv/epic_food_clean.csv\",sep=\"\\t\")"
   ]
  },
  {
   "cell_type": "markdown",
   "metadata": {},
   "source": [
    "# DELISH cleaning"
   ]
  },
  {
   "cell_type": "code",
   "execution_count": 131,
   "metadata": {},
   "outputs": [],
   "source": [
    "df = pd.read_csv(\"DATA/delish/delish_food.csv\", delimiter=\"\\t\")\n",
    "df = df.drop_duplicates(subset=['title'])\n",
    "df['title_clean'] = df['title'].apply(lambda x : re.sub(r\"[^a-zA-Z- ]\",\"\",x))\n",
    "df['source'] = 'delish'\n",
    "df['path_to_file'] = df['path_to_file'].apply(lambda x: x.replace(\"//\", \"/\").replace(\"food52\", \"delish\"))\n",
    "df['exists_file'] = df['path_to_file'].apply(lambda x: exists(x.replace(\"./\",\"\")))\n",
    "df = df.drop(df[df['exists_file'] == False].index)"
   ]
  },
  {
   "cell_type": "code",
   "execution_count": 132,
   "metadata": {},
   "outputs": [],
   "source": [
    "checkIfFileExists(\"delish\")"
   ]
  },
  {
   "cell_type": "code",
   "execution_count": 135,
   "metadata": {},
   "outputs": [],
   "source": [
    "df = df.reset_index(drop=True)\n",
    "df.to_csv(\"cleaned_csv/delish_food_clean.csv\",sep=\"\\t\")"
   ]
  },
  {
   "cell_type": "markdown",
   "metadata": {},
   "source": [
    "# Good Food Cleaning"
   ]
  },
  {
   "cell_type": "code",
   "execution_count": 136,
   "metadata": {},
   "outputs": [],
   "source": [
    "df = pd.read_csv(\"DATA/good_food/good_food.csv\", delimiter=\"\\t\")\n",
    "df = df.drop_duplicates(subset=['title'])\n",
    "df['title_clean'] = df['title'].apply(lambda x : re.sub(r\"[^a-zA-Z- ]\",\"\",x))\n",
    "df['source'] = 'good_food'\n",
    "df['path_to_file'] = df['path_to_file'].apply(lambda x: x.replace(\"//\", \"/\"))\n",
    "df['exists_file'] = df['path_to_file'].apply(lambda x: exists(x.replace(\"./\",\"\")))\n",
    "df = df.drop(df[df['exists_file'] == False].index)"
   ]
  },
  {
   "cell_type": "code",
   "execution_count": 138,
   "metadata": {},
   "outputs": [
    {
     "name": "stderr",
     "output_type": "stream",
     "text": [
      "C:\\Users\\ramang\\AppData\\Roaming\\Python\\Python38\\site-packages\\pandas\\core\\strings\\accessor.py:101: UserWarning: This pattern has match groups. To actually get the groups, use str.extract.\n",
      "  return func(self, *args, **kwargs)\n"
     ]
    }
   ],
   "source": [
    "checkIfFileExists(\"good_food\")"
   ]
  },
  {
   "cell_type": "code",
   "execution_count": 139,
   "metadata": {},
   "outputs": [],
   "source": [
    "df = df.reset_index(drop=True)\n",
    "df.to_csv(\"cleaned_csv/good_food_clean.csv\",sep=\"\\t\")"
   ]
  },
  {
   "cell_type": "markdown",
   "metadata": {},
   "source": [
    "# Jamei cleaning"
   ]
  },
  {
   "cell_type": "code",
   "execution_count": 142,
   "metadata": {},
   "outputs": [
    {
     "name": "stdout",
     "output_type": "stream",
     "text": [
      "nan\n"
     ]
    }
   ],
   "source": [
    "df = pd.read_csv(\"DATA/jamie/jamie_food.csv\", delimiter=\"\\t\")\n",
    "df = df.drop_duplicates(subset=['title'])\n",
    "\n",
    "def tryTitleClean(title):\n",
    "    try:\n",
    "        return re.sub(r\"[^a-zA-Z- ]\",\"\",title)\n",
    "    except:\n",
    "        print(title)\n",
    "        return \"\"\n",
    "\n",
    "df['title_clean'] = df['title'].apply(lambda x : tryTitleClean(x))\n",
    "df['source'] = 'jamie'\n",
    "df['path_to_file'] = df['path_to_file'].apply(lambda x: x.replace(\"//\", \"/\"))\n",
    "df['exists_file'] = df['path_to_file'].apply(lambda x: exists(x.replace(\"./\",\"\")))\n",
    "df = df.drop(df[df['exists_file'] == False].index)"
   ]
  },
  {
   "cell_type": "code",
   "execution_count": 146,
   "metadata": {},
   "outputs": [
    {
     "name": "stderr",
     "output_type": "stream",
     "text": [
      "C:\\Users\\ramang\\AppData\\Roaming\\Python\\Python38\\site-packages\\pandas\\core\\strings\\accessor.py:101: UserWarning: This pattern has match groups. To actually get the groups, use str.extract.\n",
      "  return func(self, *args, **kwargs)\n"
     ]
    }
   ],
   "source": [
    "checkIfFileExists(\"jamie\")"
   ]
  },
  {
   "cell_type": "code",
   "execution_count": 147,
   "metadata": {},
   "outputs": [],
   "source": [
    "df = df.reset_index(drop=True)\n",
    "df.to_csv(\"cleaned_csv/jamie_clean.csv\",sep=\"\\t\")"
   ]
  },
  {
   "cell_type": "markdown",
   "metadata": {},
   "source": [
    "# seriouseats cleanign"
   ]
  },
  {
   "cell_type": "code",
   "execution_count": 18,
   "metadata": {},
   "outputs": [],
   "source": [
    "df = pd.read_csv(\"DATA/seriouseats/seriouseats_food.csv\", delimiter=\"\\t\")\n",
    "df = df.drop_duplicates(subset=['title'])\n",
    "\n",
    "def tryTitleClean(title):\n",
    "    try:\n",
    "        return re.sub(r\"[^a-zA-Z- ]\",\"\",title)\n",
    "    except:\n",
    "        print(title)\n",
    "        return \"\"\n",
    "\n",
    "df['title_clean'] = df['title'].apply(lambda x : tryTitleClean(x))\n",
    "df['source'] = 'seriouseats'\n",
    "df = df.drop(df[~df['title'].str.contains(\"Recipe\")].index)\n",
    "df['path_to_file'] = df['path_to_file'].apply(lambda x: x.replace(\"//\", \"/\"))\n",
    "df['exists_file'] = df['path_to_file'].apply(lambda x: exists(x.replace(\"./\",\"\")))\n",
    "df = df.drop(df[df['exists_file'] == False].index)"
   ]
  },
  {
   "cell_type": "code",
   "execution_count": 19,
   "metadata": {},
   "outputs": [
    {
     "data": {
      "text/html": [
       "<div>\n",
       "<style scoped>\n",
       "    .dataframe tbody tr th:only-of-type {\n",
       "        vertical-align: middle;\n",
       "    }\n",
       "\n",
       "    .dataframe tbody tr th {\n",
       "        vertical-align: top;\n",
       "    }\n",
       "\n",
       "    .dataframe thead th {\n",
       "        text-align: right;\n",
       "    }\n",
       "</style>\n",
       "<table border=\"1\" class=\"dataframe\">\n",
       "  <thead>\n",
       "    <tr style=\"text-align: right;\">\n",
       "      <th></th>\n",
       "      <th>title</th>\n",
       "      <th>url</th>\n",
       "      <th>path_to_file</th>\n",
       "      <th>title_clean</th>\n",
       "      <th>source</th>\n",
       "      <th>exists_file</th>\n",
       "    </tr>\n",
       "  </thead>\n",
       "  <tbody>\n",
       "    <tr>\n",
       "      <th>9</th>\n",
       "      <td>Seasonal and Holiday Recipes</td>\n",
       "      <td>https://www.seriouseats.com/holiday-season-rec...</td>\n",
       "      <td>./DATA/seriouseats/Seasonal and Holiday Recipe...</td>\n",
       "      <td>Seasonal and Holiday Recipes</td>\n",
       "      <td>seriouseats</td>\n",
       "      <td>True</td>\n",
       "    </tr>\n",
       "    <tr>\n",
       "      <th>10</th>\n",
       "      <td>Easy Roast Chicken with Asparagus and Leeks Re...</td>\n",
       "      <td>https://www.seriouseats.com/easy-roast-chicken...</td>\n",
       "      <td>./DATA/seriouseats/Easy Roast Chicken with Asp...</td>\n",
       "      <td>Easy Roast Chicken with Asparagus and Leeks Re...</td>\n",
       "      <td>seriouseats</td>\n",
       "      <td>True</td>\n",
       "    </tr>\n",
       "    <tr>\n",
       "      <th>11</th>\n",
       "      <td>Sautéed Asparagus With Chorizo, Fried Eggs, an...</td>\n",
       "      <td>https://www.seriouseats.com/asparagus-chorizo-...</td>\n",
       "      <td>./DATA/seriouseats/Sautéed Asparagus With Chor...</td>\n",
       "      <td>Sauted Asparagus With Chorizo Fried Eggs and S...</td>\n",
       "      <td>seriouseats</td>\n",
       "      <td>True</td>\n",
       "    </tr>\n",
       "    <tr>\n",
       "      <th>12</th>\n",
       "      <td>Mushroom Duxelles-Stuffed Chicken Paprikash Re...</td>\n",
       "      <td>https://www.seriouseats.com/mushroom-duxelle-s...</td>\n",
       "      <td>./DATA/seriouseats/Mushroom Duxelles-Stuffed C...</td>\n",
       "      <td>Mushroom Duxelles-Stuffed Chicken Paprikash Re...</td>\n",
       "      <td>seriouseats</td>\n",
       "      <td>True</td>\n",
       "    </tr>\n",
       "    <tr>\n",
       "      <th>13</th>\n",
       "      <td>Traditional French Cassoulet Recipe</td>\n",
       "      <td>https://www.seriouseats.com/traditional-french...</td>\n",
       "      <td>./DATA/seriouseats/Traditional French Cassoule...</td>\n",
       "      <td>Traditional French Cassoulet Recipe</td>\n",
       "      <td>seriouseats</td>\n",
       "      <td>True</td>\n",
       "    </tr>\n",
       "    <tr>\n",
       "      <th>14</th>\n",
       "      <td>Stella's Favorite Recipes of 2017</td>\n",
       "      <td>https://www.seriouseats.com/stellas-favorite-r...</td>\n",
       "      <td>./DATA/seriouseats/Stella's Favorite Recipes o...</td>\n",
       "      <td>Stellas Favorite Recipes of</td>\n",
       "      <td>seriouseats</td>\n",
       "      <td>True</td>\n",
       "    </tr>\n",
       "    <tr>\n",
       "      <th>16</th>\n",
       "      <td>No-Churn Vanilla Ice Cream Pie Recipe</td>\n",
       "      <td>https://www.seriouseats.com/no-churn-vanilla-i...</td>\n",
       "      <td>./DATA/seriouseats/No-Churn Vanilla Ice Cream ...</td>\n",
       "      <td>No-Churn Vanilla Ice Cream Pie Recipe</td>\n",
       "      <td>seriouseats</td>\n",
       "      <td>True</td>\n",
       "    </tr>\n",
       "    <tr>\n",
       "      <th>17</th>\n",
       "      <td>Oreo Ice Cream Recipe</td>\n",
       "      <td>https://www.seriouseats.com/homemade-oreo-ice-...</td>\n",
       "      <td>./DATA/seriouseats/Oreo Ice Cream Recipe.html</td>\n",
       "      <td>Oreo Ice Cream Recipe</td>\n",
       "      <td>seriouseats</td>\n",
       "      <td>True</td>\n",
       "    </tr>\n",
       "    <tr>\n",
       "      <th>18</th>\n",
       "      <td>Hazelnut Mascarpone Ice Cream Recipe</td>\n",
       "      <td>https://www.seriouseats.com/hazelnut-mascarpon...</td>\n",
       "      <td>./DATA/seriouseats/Hazelnut Mascarpone Ice Cre...</td>\n",
       "      <td>Hazelnut Mascarpone Ice Cream Recipe</td>\n",
       "      <td>seriouseats</td>\n",
       "      <td>True</td>\n",
       "    </tr>\n",
       "    <tr>\n",
       "      <th>19</th>\n",
       "      <td>Coffee 'N Cookies 'N Cream Ice Cream Recipe</td>\n",
       "      <td>https://www.seriouseats.com/coffee-n-cookies-n...</td>\n",
       "      <td>./DATA/seriouseats/Coffee 'N Cookies 'N Cream ...</td>\n",
       "      <td>Coffee N Cookies N Cream Ice Cream Recipe</td>\n",
       "      <td>seriouseats</td>\n",
       "      <td>True</td>\n",
       "    </tr>\n",
       "    <tr>\n",
       "      <th>23</th>\n",
       "      <td>Braised and Stewed Sausage Recipes</td>\n",
       "      <td>https://www.seriouseats.com/braised-stewed-sau...</td>\n",
       "      <td>./DATA/seriouseats/Braised and Stewed Sausage ...</td>\n",
       "      <td>Braised and Stewed Sausage Recipes</td>\n",
       "      <td>seriouseats</td>\n",
       "      <td>True</td>\n",
       "    </tr>\n",
       "    <tr>\n",
       "      <th>26</th>\n",
       "      <td>Three Ramp Recipes</td>\n",
       "      <td>https://www.seriouseats.com/recipes-for-ramps</td>\n",
       "      <td>./DATA/seriouseats/Three Ramp Recipes.html</td>\n",
       "      <td>Three Ramp Recipes</td>\n",
       "      <td>seriouseats</td>\n",
       "      <td>True</td>\n",
       "    </tr>\n",
       "    <tr>\n",
       "      <th>27</th>\n",
       "      <td>Dessert Recipes</td>\n",
       "      <td>https://www.seriouseats.com/dessert-recipes-51...</td>\n",
       "      <td>./DATA/seriouseats/Dessert Recipes.html</td>\n",
       "      <td>Dessert Recipes</td>\n",
       "      <td>seriouseats</td>\n",
       "      <td>True</td>\n",
       "    </tr>\n",
       "    <tr>\n",
       "      <th>28</th>\n",
       "      <td>Stella&amp;#39;s Favorite Recipes of 2019</td>\n",
       "      <td>https://www.seriouseats.com/stella-parks-favor...</td>\n",
       "      <td>./DATA/seriouseats/Stella&amp;#39;s Favorite Recip...</td>\n",
       "      <td>Stellas Favorite Recipes of</td>\n",
       "      <td>seriouseats</td>\n",
       "      <td>True</td>\n",
       "    </tr>\n",
       "    <tr>\n",
       "      <th>31</th>\n",
       "      <td>Savory Cheese Soufflé Recipe</td>\n",
       "      <td>https://www.seriouseats.com/savory-cheese-souffle</td>\n",
       "      <td>./DATA/seriouseats/Savory Cheese Soufflé Recip...</td>\n",
       "      <td>Savory Cheese Souffl Recipe</td>\n",
       "      <td>seriouseats</td>\n",
       "      <td>True</td>\n",
       "    </tr>\n",
       "    <tr>\n",
       "      <th>32</th>\n",
       "      <td>Asparagus, Mushroom, Leek, and Cheese Galette ...</td>\n",
       "      <td>https://www.seriouseats.com/savory-asparagus-m...</td>\n",
       "      <td>./DATA/seriouseats/Asparagus, Mushroom, Leek, ...</td>\n",
       "      <td>Asparagus Mushroom Leek and Cheese Galette Recipe</td>\n",
       "      <td>seriouseats</td>\n",
       "      <td>True</td>\n",
       "    </tr>\n",
       "    <tr>\n",
       "      <th>38</th>\n",
       "      <td>Kenji's Favorite Recipes of 2017</td>\n",
       "      <td>https://www.seriouseats.com/kenjis-favorite-re...</td>\n",
       "      <td>./DATA/seriouseats/Kenji's Favorite Recipes of...</td>\n",
       "      <td>Kenjis Favorite Recipes of</td>\n",
       "      <td>seriouseats</td>\n",
       "      <td>True</td>\n",
       "    </tr>\n",
       "    <tr>\n",
       "      <th>39</th>\n",
       "      <td>It's Not Delivery, It's 24 Homemade Pizza Recipes</td>\n",
       "      <td>https://www.seriouseats.com/pizza-recipes</td>\n",
       "      <td>./DATA/seriouseats/It's Not Delivery, It's 24 ...</td>\n",
       "      <td>Its Not Delivery Its  Homemade Pizza Recipes</td>\n",
       "      <td>seriouseats</td>\n",
       "      <td>True</td>\n",
       "    </tr>\n",
       "    <tr>\n",
       "      <th>41</th>\n",
       "      <td>The Best Italian-American Meatballs Recipe</td>\n",
       "      <td>https://www.seriouseats.com/italian-american-b...</td>\n",
       "      <td>./DATA/seriouseats/The Best Italian-American M...</td>\n",
       "      <td>The Best Italian-American Meatballs Recipe</td>\n",
       "      <td>seriouseats</td>\n",
       "      <td>True</td>\n",
       "    </tr>\n",
       "    <tr>\n",
       "      <th>47</th>\n",
       "      <td>Roman-Style Fettuccine With Alfredo Sauce Recipe</td>\n",
       "      <td>https://www.seriouseats.com/fettuccine-alfredo...</td>\n",
       "      <td>./DATA/seriouseats/Roman-Style Fettuccine With...</td>\n",
       "      <td>Roman-Style Fettuccine With Alfredo Sauce Recipe</td>\n",
       "      <td>seriouseats</td>\n",
       "      <td>True</td>\n",
       "    </tr>\n",
       "  </tbody>\n",
       "</table>\n",
       "</div>"
      ],
      "text/plain": [
       "                                                title  \\\n",
       "9                        Seasonal and Holiday Recipes   \n",
       "10  Easy Roast Chicken with Asparagus and Leeks Re...   \n",
       "11  Sautéed Asparagus With Chorizo, Fried Eggs, an...   \n",
       "12  Mushroom Duxelles-Stuffed Chicken Paprikash Re...   \n",
       "13                Traditional French Cassoulet Recipe   \n",
       "14                  Stella's Favorite Recipes of 2017   \n",
       "16              No-Churn Vanilla Ice Cream Pie Recipe   \n",
       "17                              Oreo Ice Cream Recipe   \n",
       "18               Hazelnut Mascarpone Ice Cream Recipe   \n",
       "19        Coffee 'N Cookies 'N Cream Ice Cream Recipe   \n",
       "23                 Braised and Stewed Sausage Recipes   \n",
       "26                                 Three Ramp Recipes   \n",
       "27                                    Dessert Recipes   \n",
       "28              Stella&#39;s Favorite Recipes of 2019   \n",
       "31                       Savory Cheese Soufflé Recipe   \n",
       "32  Asparagus, Mushroom, Leek, and Cheese Galette ...   \n",
       "38                   Kenji's Favorite Recipes of 2017   \n",
       "39  It's Not Delivery, It's 24 Homemade Pizza Recipes   \n",
       "41         The Best Italian-American Meatballs Recipe   \n",
       "47   Roman-Style Fettuccine With Alfredo Sauce Recipe   \n",
       "\n",
       "                                                  url  \\\n",
       "9   https://www.seriouseats.com/holiday-season-rec...   \n",
       "10  https://www.seriouseats.com/easy-roast-chicken...   \n",
       "11  https://www.seriouseats.com/asparagus-chorizo-...   \n",
       "12  https://www.seriouseats.com/mushroom-duxelle-s...   \n",
       "13  https://www.seriouseats.com/traditional-french...   \n",
       "14  https://www.seriouseats.com/stellas-favorite-r...   \n",
       "16  https://www.seriouseats.com/no-churn-vanilla-i...   \n",
       "17  https://www.seriouseats.com/homemade-oreo-ice-...   \n",
       "18  https://www.seriouseats.com/hazelnut-mascarpon...   \n",
       "19  https://www.seriouseats.com/coffee-n-cookies-n...   \n",
       "23  https://www.seriouseats.com/braised-stewed-sau...   \n",
       "26      https://www.seriouseats.com/recipes-for-ramps   \n",
       "27  https://www.seriouseats.com/dessert-recipes-51...   \n",
       "28  https://www.seriouseats.com/stella-parks-favor...   \n",
       "31  https://www.seriouseats.com/savory-cheese-souffle   \n",
       "32  https://www.seriouseats.com/savory-asparagus-m...   \n",
       "38  https://www.seriouseats.com/kenjis-favorite-re...   \n",
       "39          https://www.seriouseats.com/pizza-recipes   \n",
       "41  https://www.seriouseats.com/italian-american-b...   \n",
       "47  https://www.seriouseats.com/fettuccine-alfredo...   \n",
       "\n",
       "                                         path_to_file  \\\n",
       "9   ./DATA/seriouseats/Seasonal and Holiday Recipe...   \n",
       "10  ./DATA/seriouseats/Easy Roast Chicken with Asp...   \n",
       "11  ./DATA/seriouseats/Sautéed Asparagus With Chor...   \n",
       "12  ./DATA/seriouseats/Mushroom Duxelles-Stuffed C...   \n",
       "13  ./DATA/seriouseats/Traditional French Cassoule...   \n",
       "14  ./DATA/seriouseats/Stella's Favorite Recipes o...   \n",
       "16  ./DATA/seriouseats/No-Churn Vanilla Ice Cream ...   \n",
       "17      ./DATA/seriouseats/Oreo Ice Cream Recipe.html   \n",
       "18  ./DATA/seriouseats/Hazelnut Mascarpone Ice Cre...   \n",
       "19  ./DATA/seriouseats/Coffee 'N Cookies 'N Cream ...   \n",
       "23  ./DATA/seriouseats/Braised and Stewed Sausage ...   \n",
       "26         ./DATA/seriouseats/Three Ramp Recipes.html   \n",
       "27            ./DATA/seriouseats/Dessert Recipes.html   \n",
       "28  ./DATA/seriouseats/Stella&#39;s Favorite Recip...   \n",
       "31  ./DATA/seriouseats/Savory Cheese Soufflé Recip...   \n",
       "32  ./DATA/seriouseats/Asparagus, Mushroom, Leek, ...   \n",
       "38  ./DATA/seriouseats/Kenji's Favorite Recipes of...   \n",
       "39  ./DATA/seriouseats/It's Not Delivery, It's 24 ...   \n",
       "41  ./DATA/seriouseats/The Best Italian-American M...   \n",
       "47  ./DATA/seriouseats/Roman-Style Fettuccine With...   \n",
       "\n",
       "                                          title_clean       source  \\\n",
       "9                        Seasonal and Holiday Recipes  seriouseats   \n",
       "10  Easy Roast Chicken with Asparagus and Leeks Re...  seriouseats   \n",
       "11  Sauted Asparagus With Chorizo Fried Eggs and S...  seriouseats   \n",
       "12  Mushroom Duxelles-Stuffed Chicken Paprikash Re...  seriouseats   \n",
       "13                Traditional French Cassoulet Recipe  seriouseats   \n",
       "14                       Stellas Favorite Recipes of   seriouseats   \n",
       "16              No-Churn Vanilla Ice Cream Pie Recipe  seriouseats   \n",
       "17                              Oreo Ice Cream Recipe  seriouseats   \n",
       "18               Hazelnut Mascarpone Ice Cream Recipe  seriouseats   \n",
       "19          Coffee N Cookies N Cream Ice Cream Recipe  seriouseats   \n",
       "23                 Braised and Stewed Sausage Recipes  seriouseats   \n",
       "26                                 Three Ramp Recipes  seriouseats   \n",
       "27                                    Dessert Recipes  seriouseats   \n",
       "28                       Stellas Favorite Recipes of   seriouseats   \n",
       "31                        Savory Cheese Souffl Recipe  seriouseats   \n",
       "32  Asparagus Mushroom Leek and Cheese Galette Recipe  seriouseats   \n",
       "38                        Kenjis Favorite Recipes of   seriouseats   \n",
       "39       Its Not Delivery Its  Homemade Pizza Recipes  seriouseats   \n",
       "41         The Best Italian-American Meatballs Recipe  seriouseats   \n",
       "47   Roman-Style Fettuccine With Alfredo Sauce Recipe  seriouseats   \n",
       "\n",
       "    exists_file  \n",
       "9          True  \n",
       "10         True  \n",
       "11         True  \n",
       "12         True  \n",
       "13         True  \n",
       "14         True  \n",
       "16         True  \n",
       "17         True  \n",
       "18         True  \n",
       "19         True  \n",
       "23         True  \n",
       "26         True  \n",
       "27         True  \n",
       "28         True  \n",
       "31         True  \n",
       "32         True  \n",
       "38         True  \n",
       "39         True  \n",
       "41         True  \n",
       "47         True  "
      ]
     },
     "execution_count": 19,
     "metadata": {},
     "output_type": "execute_result"
    }
   ],
   "source": [
    "df.head(20)"
   ]
  },
  {
   "cell_type": "code",
   "execution_count": 20,
   "metadata": {},
   "outputs": [],
   "source": [
    "checkIfFileExists(\"seriouseats\")"
   ]
  },
  {
   "cell_type": "code",
   "execution_count": 21,
   "metadata": {},
   "outputs": [],
   "source": [
    "df = df.reset_index(drop=True)\n",
    "df.to_csv(\"cleaned_csv/seriouseats_clean.csv\",sep=\"\\t\")"
   ]
  },
  {
   "cell_type": "markdown",
   "metadata": {},
   "source": [
    "# Simply cleaning"
   ]
  },
  {
   "cell_type": "code",
   "execution_count": 162,
   "metadata": {},
   "outputs": [],
   "source": [
    "df = pd.read_csv(\"DATA/simply/simply_food.csv\", delimiter=\"\\t\")\n",
    "df = df.drop_duplicates(subset=['title'])\n",
    "\n",
    "def tryTitleClean(title):\n",
    "    try:\n",
    "        return re.sub(r\"[^a-zA-Z- ]\",\"\",title)\n",
    "    except:\n",
    "        print(title)\n",
    "        return \"\"\n",
    "\n",
    "df['title_clean'] = df['title'].apply(lambda x : tryTitleClean(x))\n",
    "df['source'] = 'simply'\n",
    "df['path_to_file'] = df['path_to_file'].apply(lambda x: x.replace(\"//\", \"/\"))\n",
    "df['exists_file'] = df['path_to_file'].apply(lambda x: exists(x.replace(\"./\",\"\")))\n",
    "df = df.drop(df[df['exists_file'] == False].index)"
   ]
  },
  {
   "cell_type": "code",
   "execution_count": 163,
   "metadata": {},
   "outputs": [],
   "source": [
    "checkIfFileExists(\"simply\")"
   ]
  },
  {
   "cell_type": "code",
   "execution_count": 164,
   "metadata": {},
   "outputs": [],
   "source": [
    "df = df.reset_index(drop=True)\n",
    "df.to_csv(\"cleaned_csv/simply_clean.csv\",sep=\"\\t\")"
   ]
  },
  {
   "cell_type": "markdown",
   "metadata": {},
   "source": [
    "# Spoon cleaning"
   ]
  },
  {
   "cell_type": "code",
   "execution_count": 22,
   "metadata": {},
   "outputs": [],
   "source": [
    "df = pd.read_csv(\"DATA/spoon/spoon_food.csv\", delimiter=\"\\t\")\n",
    "df = df.drop_duplicates(subset=['title'])\n",
    "\n",
    "def tryTitleClean(title):\n",
    "    try:\n",
    "        return re.sub(r\"[^a-zA-Z- ]\",\"\",title)\n",
    "    except:\n",
    "        print(title)\n",
    "        return \"\"\n",
    "\n",
    "df['title_clean'] = df['title'].apply(lambda x : tryTitleClean(x))\n",
    "df['source'] = 'spoon'\n",
    "df['path_to_file'] = df['path_to_file'].apply(lambda x: x.replace(\"//\", \"/\"))\n",
    "df['exists_file'] = df['path_to_file'].apply(lambda x: exists(x.replace(\"./\",\"\")))\n",
    "df = df.drop(df[df['exists_file'] == False].index)"
   ]
  },
  {
   "cell_type": "code",
   "execution_count": 23,
   "metadata": {},
   "outputs": [],
   "source": [
    "checkIfFileExists(\"spoon\")"
   ]
  },
  {
   "cell_type": "code",
   "execution_count": 24,
   "metadata": {},
   "outputs": [],
   "source": [
    "df = df.reset_index(drop=True)\n",
    "df.to_csv(\"cleaned_csv/spoon_clean.csv\",sep=\"\\t\")"
   ]
  }
 ],
 "metadata": {
  "kernelspec": {
   "display_name": "Python 3",
   "language": "python",
   "name": "python3"
  },
  "language_info": {
   "codemirror_mode": {
    "name": "ipython",
    "version": 3
   },
   "file_extension": ".py",
   "mimetype": "text/x-python",
   "name": "python",
   "nbconvert_exporter": "python",
   "pygments_lexer": "ipython3",
   "version": "3.8.3"
  }
 },
 "nbformat": 4,
 "nbformat_minor": 5
}
