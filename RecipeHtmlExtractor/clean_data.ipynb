{
 "cells": [
  {
   "cell_type": "code",
   "execution_count": 35,
   "metadata": {},
   "outputs": [],
   "source": [
    "import pandas as pd\n",
    "import re\n",
    "import os\n",
    "from os.path import exists"
   ]
  },
  {
   "cell_type": "code",
   "execution_count": 152,
   "metadata": {},
   "outputs": [],
   "source": [
    "def checkIfFileExists(name):\n",
    "    file_dir = \"DATA/\"+name+\"/\"\n",
    "    for file in os.listdir(file_dir):\n",
    "        try:\n",
    "            if file.endswith(\".html\"):\n",
    "                    if len(df[df['title'].str.contains(file.split(\".html\")[0])]) < 1:\n",
    "                        os.remove(os.path.join(file_dir, file))\n",
    "        except:\n",
    "            print(file)"
   ]
  },
  {
   "cell_type": "markdown",
   "metadata": {},
   "source": [
    "# BCC FOOD cleaning"
   ]
  },
  {
   "cell_type": "code",
   "execution_count": 105,
   "metadata": {},
   "outputs": [],
   "source": [
    "df = pd.read_csv(\"DATA/bbc/bbc_food.csv\", delimiter=\"\\t\")\n",
    "df = df.drop_duplicates(subset=['title'])\n",
    "df = df.drop(df[df['title'].str.contains(\"shopping list\")].index)\n",
    "df = df.drop(df[df['title'].str.contains(\"Recipes | A - BBC Food\")].index)\n",
    "df['title_clean'] = df['title'].apply(lambda x : re.sub(r\"[^a-zA-Z- ]\",\"\",x))\n",
    "df['source'] = 'BBC FOOD'\n",
    "df['path_to_file'] = df['path_to_file'].apply(lambda x: x.replace(\"//\", \"/\"))\n",
    "df['exists_file'] = df['path_to_file'].apply(lambda x: exists(x.replace(\"./\",\"\")))\n",
    "df = df.drop(df[df['exists_file'] == False].index)"
   ]
  },
  {
   "cell_type": "code",
   "execution_count": 106,
   "metadata": {},
   "outputs": [
    {
     "name": "stderr",
     "output_type": "stream",
     "text": [
      "C:\\Users\\ramang\\AppData\\Roaming\\Python\\Python38\\site-packages\\pandas\\core\\strings\\accessor.py:101: UserWarning: This pattern has match groups. To actually get the groups, use str.extract.\n",
      "  return func(self, *args, **kwargs)\n"
     ]
    }
   ],
   "source": [
    "checkIfFileExists(\"bbc\")"
   ]
  },
  {
   "cell_type": "code",
   "execution_count": 107,
   "metadata": {},
   "outputs": [],
   "source": [
    "df = df.reset_index(drop=True)\n",
    "df.to_csv(\"cleaned_csv/bbc_food_clean.csv\",sep=\"\\t\")"
   ]
  },
  {
   "cell_type": "markdown",
   "metadata": {},
   "source": [
    "# BRITISH cleaning"
   ]
  },
  {
   "cell_type": "code",
   "execution_count": 102,
   "metadata": {},
   "outputs": [],
   "source": [
    "df = pd.read_csv(\"DATA/british/british_food.csv\", delimiter=\"\\t\")\n",
    "df = df.drop_duplicates(subset=['title'])\n",
    "df = df.drop(df[df['title'].str.contains(\"shopping list\")].index)\n",
    "df['title_clean'] = df['title'].apply(lambda x : re.sub(r\"[^a-zA-Z- ]\",\"\",x))\n",
    "df['source'] = 'British'\n",
    "df['path_to_file'] = df['path_to_file'].apply(lambda x: x.replace(\"//\", \"/\"))\n",
    "df['exists_file'] = df['path_to_file'].apply(lambda x: exists(x.replace(\"./\",\"\")))\n",
    "df = df.drop(df[df['exists_file'] == False].index)"
   ]
  },
  {
   "cell_type": "code",
   "execution_count": 103,
   "metadata": {},
   "outputs": [
    {
     "name": "stderr",
     "output_type": "stream",
     "text": [
      "C:\\Users\\ramang\\AppData\\Roaming\\Python\\Python38\\site-packages\\pandas\\core\\strings\\accessor.py:101: UserWarning: This pattern has match groups. To actually get the groups, use str.extract.\n",
      "  return func(self, *args, **kwargs)\n"
     ]
    }
   ],
   "source": [
    "checkIfFileExists(\"british\")"
   ]
  },
  {
   "cell_type": "code",
   "execution_count": 104,
   "metadata": {},
   "outputs": [],
   "source": [
    "df = df.reset_index(drop=True)\n",
    "df.to_csv(\"cleaned_csv/british_food_clean.csv\",sep=\"\\t\")"
   ]
  },
  {
   "cell_type": "markdown",
   "metadata": {},
   "source": [
    "# ITALIAN cleaning"
   ]
  },
  {
   "cell_type": "code",
   "execution_count": 112,
   "metadata": {},
   "outputs": [],
   "source": [
    "df = pd.read_csv(\"DATA/italian/italian_food.csv\", delimiter=\"\\t\")\n",
    "df = df.drop_duplicates(subset=['title'])\n",
    "df = df.drop(df[df['title'].str.contains(\"shopping list\")].index)\n",
    "df['title_clean'] = df['title'].apply(lambda x : re.sub(r\"[^a-zA-Z- ]\",\"\",x))\n",
    "df['source'] = 'Italian'\n",
    "df['path_to_file'] = df['path_to_file'].apply(lambda x: x.replace(\"//\", \"/\"))\n",
    "df['exists_file'] = df['path_to_file'].apply(lambda x: exists(x.replace(\"./\",\"\")))\n",
    "df = df.drop(df[df['exists_file'] == False].index)"
   ]
  },
  {
   "cell_type": "code",
   "execution_count": 110,
   "metadata": {},
   "outputs": [
    {
     "name": "stderr",
     "output_type": "stream",
     "text": [
      "C:\\Users\\ramang\\AppData\\Roaming\\Python\\Python38\\site-packages\\pandas\\core\\strings\\accessor.py:101: UserWarning: This pattern has match groups. To actually get the groups, use str.extract.\n",
      "  return func(self, *args, **kwargs)\n"
     ]
    }
   ],
   "source": [
    "checkIfFileExists(\"italian\")"
   ]
  },
  {
   "cell_type": "code",
   "execution_count": 113,
   "metadata": {},
   "outputs": [],
   "source": [
    "df = df.reset_index(drop=True)\n",
    "df.to_csv(\"cleaned_csv/italian_food_clean.csv\",sep=\"\\t\")"
   ]
  },
  {
   "cell_type": "markdown",
   "metadata": {},
   "source": [
    "# EPIC cleaning"
   ]
  },
  {
   "cell_type": "code",
   "execution_count": 114,
   "metadata": {},
   "outputs": [],
   "source": [
    "df = pd.read_csv(\"DATA/epic/epic_food.csv\", delimiter=\"\\t\")\n",
    "df = df.drop_duplicates(subset=['title'])\n",
    "df['title_clean'] = df['title'].apply(lambda x : re.sub(r\"[^a-zA-Z- ]\",\"\",x))\n",
    "df['source'] = 'Epic'\n",
    "df['path_to_file'] = df['path_to_file'].apply(lambda x: x.replace(\"//\", \"/\"))\n",
    "df['exists_file'] = df['path_to_file'].apply(lambda x: exists(x.replace(\"./\",\"\")))\n",
    "df = df.drop(df[df['exists_file'] == False].index)"
   ]
  },
  {
   "cell_type": "code",
   "execution_count": 116,
   "metadata": {},
   "outputs": [],
   "source": [
    "checkIfFileExists(\"epic\")"
   ]
  },
  {
   "cell_type": "code",
   "execution_count": 117,
   "metadata": {},
   "outputs": [],
   "source": [
    "df = df.reset_index(drop=True)\n",
    "df.to_csv(\"cleaned_csv/epic_food_clean.csv\",sep=\"\\t\")"
   ]
  },
  {
   "cell_type": "markdown",
   "metadata": {},
   "source": [
    "# DELISH cleaning"
   ]
  },
  {
   "cell_type": "code",
   "execution_count": 131,
   "metadata": {},
   "outputs": [],
   "source": [
    "df = pd.read_csv(\"DATA/delish/delish_food.csv\", delimiter=\"\\t\")\n",
    "df = df.drop_duplicates(subset=['title'])\n",
    "df['title_clean'] = df['title'].apply(lambda x : re.sub(r\"[^a-zA-Z- ]\",\"\",x))\n",
    "df['source'] = 'delish'\n",
    "df['path_to_file'] = df['path_to_file'].apply(lambda x: x.replace(\"//\", \"/\").replace(\"food52\", \"delish\"))\n",
    "df['exists_file'] = df['path_to_file'].apply(lambda x: exists(x.replace(\"./\",\"\")))\n",
    "df = df.drop(df[df['exists_file'] == False].index)"
   ]
  },
  {
   "cell_type": "code",
   "execution_count": 132,
   "metadata": {},
   "outputs": [],
   "source": [
    "checkIfFileExists(\"delish\")"
   ]
  },
  {
   "cell_type": "code",
   "execution_count": 135,
   "metadata": {},
   "outputs": [],
   "source": [
    "df = df.reset_index(drop=True)\n",
    "df.to_csv(\"cleaned_csv/delish_food_clean.csv\",sep=\"\\t\")"
   ]
  },
  {
   "cell_type": "markdown",
   "metadata": {},
   "source": [
    "# Good Food Cleaning"
   ]
  },
  {
   "cell_type": "code",
   "execution_count": 136,
   "metadata": {},
   "outputs": [],
   "source": [
    "df = pd.read_csv(\"DATA/good_food/good_food.csv\", delimiter=\"\\t\")\n",
    "df = df.drop_duplicates(subset=['title'])\n",
    "df['title_clean'] = df['title'].apply(lambda x : re.sub(r\"[^a-zA-Z- ]\",\"\",x))\n",
    "df['source'] = 'good_food'\n",
    "df['path_to_file'] = df['path_to_file'].apply(lambda x: x.replace(\"//\", \"/\"))\n",
    "df['exists_file'] = df['path_to_file'].apply(lambda x: exists(x.replace(\"./\",\"\")))\n",
    "df = df.drop(df[df['exists_file'] == False].index)"
   ]
  },
  {
   "cell_type": "code",
   "execution_count": 138,
   "metadata": {},
   "outputs": [
    {
     "name": "stderr",
     "output_type": "stream",
     "text": [
      "C:\\Users\\ramang\\AppData\\Roaming\\Python\\Python38\\site-packages\\pandas\\core\\strings\\accessor.py:101: UserWarning: This pattern has match groups. To actually get the groups, use str.extract.\n",
      "  return func(self, *args, **kwargs)\n"
     ]
    }
   ],
   "source": [
    "checkIfFileExists(\"good_food\")"
   ]
  },
  {
   "cell_type": "code",
   "execution_count": 139,
   "metadata": {},
   "outputs": [],
   "source": [
    "df = df.reset_index(drop=True)\n",
    "df.to_csv(\"cleaned_csv/good_food_clean.csv\",sep=\"\\t\")"
   ]
  },
  {
   "cell_type": "markdown",
   "metadata": {},
   "source": [
    "# Jamei cleaning"
   ]
  },
  {
   "cell_type": "code",
   "execution_count": 142,
   "metadata": {},
   "outputs": [
    {
     "name": "stdout",
     "output_type": "stream",
     "text": [
      "nan\n"
     ]
    }
   ],
   "source": [
    "df = pd.read_csv(\"DATA/jamie/jamie_food.csv\", delimiter=\"\\t\")\n",
    "df = df.drop_duplicates(subset=['title'])\n",
    "\n",
    "def tryTitleClean(title):\n",
    "    try:\n",
    "        return re.sub(r\"[^a-zA-Z- ]\",\"\",title)\n",
    "    except:\n",
    "        print(title)\n",
    "        return \"\"\n",
    "\n",
    "df['title_clean'] = df['title'].apply(lambda x : tryTitleClean(x))\n",
    "df['source'] = 'jamie'\n",
    "df['path_to_file'] = df['path_to_file'].apply(lambda x: x.replace(\"//\", \"/\"))\n",
    "df['exists_file'] = df['path_to_file'].apply(lambda x: exists(x.replace(\"./\",\"\")))\n",
    "df = df.drop(df[df['exists_file'] == False].index)"
   ]
  },
  {
   "cell_type": "code",
   "execution_count": 146,
   "metadata": {},
   "outputs": [
    {
     "name": "stderr",
     "output_type": "stream",
     "text": [
      "C:\\Users\\ramang\\AppData\\Roaming\\Python\\Python38\\site-packages\\pandas\\core\\strings\\accessor.py:101: UserWarning: This pattern has match groups. To actually get the groups, use str.extract.\n",
      "  return func(self, *args, **kwargs)\n"
     ]
    }
   ],
   "source": [
    "checkIfFileExists(\"jamie\")"
   ]
  },
  {
   "cell_type": "code",
   "execution_count": 147,
   "metadata": {},
   "outputs": [],
   "source": [
    "df = df.reset_index(drop=True)\n",
    "df.to_csv(\"cleaned_csv/jamie_clean.csv\",sep=\"\\t\")"
   ]
  },
  {
   "cell_type": "markdown",
   "metadata": {},
   "source": [
    "# seriouseats cleanign"
   ]
  },
  {
   "cell_type": "code",
   "execution_count": 154,
   "metadata": {},
   "outputs": [],
   "source": [
    "df = pd.read_csv(\"DATA/seriouseats/seriouseats_food.csv\", delimiter=\"\\t\")\n",
    "df = df.drop_duplicates(subset=['title'])\n",
    "\n",
    "def tryTitleClean(title):\n",
    "    try:\n",
    "        return re.sub(r\"[^a-zA-Z- ]\",\"\",title)\n",
    "    except:\n",
    "        print(title)\n",
    "        return \"\"\n",
    "\n",
    "df['title_clean'] = df['title'].apply(lambda x : tryTitleClean(x))\n",
    "df['source'] = 'seriouseats'\n",
    "df['path_to_file'] = df['path_to_file'].apply(lambda x: x.replace(\"//\", \"/\"))\n",
    "df['exists_file'] = df['path_to_file'].apply(lambda x: exists(x.replace(\"./\",\"\")))\n",
    "df = df.drop(df[df['exists_file'] == False].index)"
   ]
  },
  {
   "cell_type": "code",
   "execution_count": 155,
   "metadata": {},
   "outputs": [],
   "source": [
    "checkIfFileExists(\"seriouseats\")"
   ]
  },
  {
   "cell_type": "code",
   "execution_count": 156,
   "metadata": {},
   "outputs": [],
   "source": [
    "df = df.reset_index(drop=True)\n",
    "df.to_csv(\"cleaned_csv/seriouseats_clean.csv\",sep=\"\\t\")"
   ]
  },
  {
   "cell_type": "markdown",
   "metadata": {},
   "source": [
    "# Simply cleaning"
   ]
  },
  {
   "cell_type": "code",
   "execution_count": 162,
   "metadata": {},
   "outputs": [],
   "source": [
    "df = pd.read_csv(\"DATA/simply/simply_food.csv\", delimiter=\"\\t\")\n",
    "df = df.drop_duplicates(subset=['title'])\n",
    "\n",
    "def tryTitleClean(title):\n",
    "    try:\n",
    "        return re.sub(r\"[^a-zA-Z- ]\",\"\",title)\n",
    "    except:\n",
    "        print(title)\n",
    "        return \"\"\n",
    "\n",
    "df['title_clean'] = df['title'].apply(lambda x : tryTitleClean(x))\n",
    "df['source'] = 'simply'\n",
    "df['path_to_file'] = df['path_to_file'].apply(lambda x: x.replace(\"//\", \"/\"))\n",
    "df['exists_file'] = df['path_to_file'].apply(lambda x: exists(x.replace(\"./\",\"\")))\n",
    "df = df.drop(df[df['exists_file'] == False].index)"
   ]
  },
  {
   "cell_type": "code",
   "execution_count": 163,
   "metadata": {},
   "outputs": [],
   "source": [
    "checkIfFileExists(\"simply\")"
   ]
  },
  {
   "cell_type": "code",
   "execution_count": 164,
   "metadata": {},
   "outputs": [],
   "source": [
    "df = df.reset_index(drop=True)\n",
    "df.to_csv(\"cleaned_csv/simply_clean.csv\",sep=\"\\t\")"
   ]
  },
  {
   "cell_type": "markdown",
   "metadata": {},
   "source": [
    "# Spoon cleaning"
   ]
  },
  {
   "cell_type": "code",
   "execution_count": 167,
   "metadata": {},
   "outputs": [],
   "source": [
    "df = pd.read_csv(\"DATA/spoon/spoon_food.csv\", delimiter=\"\\t\")\n",
    "df = df.drop_duplicates(subset=['title'])\n",
    "\n",
    "def tryTitleClean(title):\n",
    "    try:\n",
    "        return re.sub(r\"[^a-zA-Z- ]\",\"\",title)\n",
    "    except:\n",
    "        print(title)\n",
    "        return \"\"\n",
    "\n",
    "df['title_clean'] = df['title'].apply(lambda x : tryTitleClean(x))\n",
    "df['source'] = 'spood'\n",
    "df['path_to_file'] = df['path_to_file'].apply(lambda x: x.replace(\"//\", \"/\"))\n",
    "df['exists_file'] = df['path_to_file'].apply(lambda x: exists(x.replace(\"./\",\"\")))\n",
    "df = df.drop(df[df['exists_file'] == False].index)"
   ]
  },
  {
   "cell_type": "code",
   "execution_count": 168,
   "metadata": {},
   "outputs": [],
   "source": [
    "checkIfFileExists(\"spoon\")"
   ]
  },
  {
   "cell_type": "code",
   "execution_count": 169,
   "metadata": {},
   "outputs": [],
   "source": [
    "df = df.reset_index(drop=True)\n",
    "df.to_csv(\"cleaned_csv/spoon_clean.csv\",sep=\"\\t\")"
   ]
  }
 ],
 "metadata": {
  "kernelspec": {
   "display_name": "Python 3",
   "language": "python",
   "name": "python3"
  },
  "language_info": {
   "codemirror_mode": {
    "name": "ipython",
    "version": 3
   },
   "file_extension": ".py",
   "mimetype": "text/x-python",
   "name": "python",
   "nbconvert_exporter": "python",
   "pygments_lexer": "ipython3",
   "version": "3.8.3"
  }
 },
 "nbformat": 4,
 "nbformat_minor": 5
}
