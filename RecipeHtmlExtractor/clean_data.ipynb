{
 "cells": [
  {
   "cell_type": "code",
   "execution_count": 22,
   "id": "2f6c9d4e",
   "metadata": {},
   "outputs": [],
   "source": [
    "import pandas as pd"
   ]
  },
  {
   "cell_type": "code",
   "execution_count": 23,
   "id": "9a53a19a",
   "metadata": {},
   "outputs": [],
   "source": [
    "df = pd.read_csv(r\"C:\\Users\\william.brach\\Developer\\Recipe-Extractor\\RecipeLinkExtractor\\DATA\\bbc_food.csv\", delimiter=\"\\t\")\n",
    "df = df.drop_duplicates(subset=['title'])\n",
    "df =df.drop(df[df['title'].str.contains(\"shopping list\")].index)\n",
    "df = df.drop(df[df['title'].str.contains(\"Recipes | A - BBC Food\")].index)\n",
    "df = df.drop(df[df['title'].str.contains(\"orraine\\'s \\\"I can\\'t believe you made that\")].index)\n",
    "df = df.drop(df[df['title'].str.contains(\"Chickpea and cauliflower curry recipe\")].index)\n",
    "df = df.drop(df[df['title'].str.contains(\"Slow-cooked ox cheek with \")].index)\n",
    "df = df.drop(df[df['title'].str.contains(\"Easy bubble and squ\")].index)\n",
    "df = df.reset_index(drop=True)\n",
    "df.to_csv(r\"C:\\Users\\william.brach\\Developer\\Recipe-Extractor\\RecipeLinkExtractor\\DATA\\bbc_food_clean.csv\",sep=\"\\t\")"
   ]
  },
  {
   "cell_type": "code",
   "execution_count": 24,
   "id": "f431d123",
   "metadata": {},
   "outputs": [],
   "source": [
    "df = pd.read_csv(r\"C:\\Users\\william.brach\\Developer\\Recipe-Extractor\\RecipeLinkExtractor\\DATA\\bbc_food_clean.csv\", delimiter=\"\\t\")"
   ]
  },
  {
   "cell_type": "code",
   "execution_count": 25,
   "id": "b872164c",
   "metadata": {},
   "outputs": [
    {
     "name": "stdout",
     "output_type": "stream",
     "text": [
      "<class 'pandas.core.frame.DataFrame'>\n",
      "RangeIndex: 3903 entries, 0 to 3902\n",
      "Data columns (total 4 columns):\n",
      " #   Column        Non-Null Count  Dtype \n",
      "---  ------        --------------  ----- \n",
      " 0   Unnamed: 0    3903 non-null   int64 \n",
      " 1   title         3903 non-null   object\n",
      " 2   url           3903 non-null   object\n",
      " 3   path_to_file  3903 non-null   object\n",
      "dtypes: int64(1), object(3)\n",
      "memory usage: 122.1+ KB\n"
     ]
    }
   ],
   "source": [
    "df.info()"
   ]
  },
  {
   "cell_type": "code",
   "execution_count": 15,
   "id": "c2e544cd",
   "metadata": {},
   "outputs": [],
   "source": [
    "import os\n",
    "file_dir = r\"C:\\Users\\william.brach\\Developer\\Recipe-Extractor\\RecipeLinkExtractor\\DATA\"\n",
    "for file in os.listdir(file_dir):\n",
    "    if file.endswith(\".html\"):\n",
    "        if \"shopping list\" in file:\n",
    "            os.remove(os.path.join(file_dir, file))"
   ]
  }
 ],
 "metadata": {
  "kernelspec": {
   "display_name": "Python 3",
   "language": "python",
   "name": "python3"
  },
  "language_info": {
   "codemirror_mode": {
    "name": "ipython",
    "version": 3
   },
   "file_extension": ".py",
   "mimetype": "text/x-python",
   "name": "python",
   "nbconvert_exporter": "python",
   "pygments_lexer": "ipython3",
   "version": "3.8.11"
  }
 },
 "nbformat": 4,
 "nbformat_minor": 5
}
