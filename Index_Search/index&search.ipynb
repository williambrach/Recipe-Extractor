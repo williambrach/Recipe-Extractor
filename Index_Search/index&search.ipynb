{
 "cells": [
  {
   "cell_type": "code",
   "execution_count": 50,
   "id": "44bbb731",
   "metadata": {},
   "outputs": [
    {
     "name": "stderr",
     "output_type": "stream",
     "text": [
      "[nltk_data] Downloading package wordnet to\n",
      "[nltk_data]     C:\\Users\\william.brach\\AppData\\Roaming\\nltk_data...\n",
      "[nltk_data]   Package wordnet is already up-to-date!\n",
      "[nltk_data] Downloading package stopwords to\n",
      "[nltk_data]     C:\\Users\\william.brach\\AppData\\Roaming\\nltk_data...\n",
      "[nltk_data]   Package stopwords is already up-to-date!\n"
     ]
    }
   ],
   "source": [
    "import pandas as pd\n",
    "import re\n",
    "import nltk\n",
    "from nltk.stem.porter import PorterStemmer\n",
    "from nltk.stem import WordNetLemmatizer\n",
    "from nltk.corpus import stopwords\n",
    "nltk.download('wordnet')\n",
    "nltk.download('stopwords')\n",
    "from collections import Counter\n",
    "import re"
   ]
  },
  {
   "cell_type": "code",
   "execution_count": 29,
   "id": "6a88b597",
   "metadata": {},
   "outputs": [],
   "source": [
    "df = pd.read_csv(\"RecipeExtracted.csv\", sep=\"\\t\")\n",
    "wordnet_lemmatizer = WordNetLemmatizer()\n",
    "porter_stemmer  = PorterStemmer()"
   ]
  },
  {
   "cell_type": "code",
   "execution_count": 42,
   "id": "15d88e55",
   "metadata": {},
   "outputs": [
    {
     "data": {
      "text/html": [
       "<div>\n",
       "<style scoped>\n",
       "    .dataframe tbody tr th:only-of-type {\n",
       "        vertical-align: middle;\n",
       "    }\n",
       "\n",
       "    .dataframe tbody tr th {\n",
       "        vertical-align: top;\n",
       "    }\n",
       "\n",
       "    .dataframe thead th {\n",
       "        text-align: right;\n",
       "    }\n",
       "</style>\n",
       "<table border=\"1\" class=\"dataframe\">\n",
       "  <thead>\n",
       "    <tr style=\"text-align: right;\">\n",
       "      <th></th>\n",
       "      <th>Unnamed: 0</th>\n",
       "      <th>title</th>\n",
       "      <th>url</th>\n",
       "      <th>path_to_file</th>\n",
       "      <th>recipe_title</th>\n",
       "      <th>recipe_servings</th>\n",
       "      <th>recipe_ingredients</th>\n",
       "      <th>recipe_steps</th>\n",
       "    </tr>\n",
       "  </thead>\n",
       "  <tbody>\n",
       "    <tr>\n",
       "      <th>0</th>\n",
       "      <td>0</td>\n",
       "      <td>Vegetable dhansak recipe - BBC Food</td>\n",
       "      <td>https://www.bbc.co.uk/food/recipes/vegetable_d...</td>\n",
       "      <td>./DATA//Vegetable dhansak recipe - BBC Food.html</td>\n",
       "      <td>Vegetable dhansak</td>\n",
       "      <td>4.0</td>\n",
       "      <td>['1 small cauliflower, cut into small florets'...</td>\n",
       "      <td>['Preheat the oven to 200C/180C Fan/Gas 6.', '...</td>\n",
       "    </tr>\n",
       "    <tr>\n",
       "      <th>1</th>\n",
       "      <td>1</td>\n",
       "      <td>Mary Berry's fish pie recipe - BBC Food</td>\n",
       "      <td>https://www.bbc.co.uk/food/recipes/mary_berrys...</td>\n",
       "      <td>./DATA//Mary Berry's fish pie recipe - BBC Foo...</td>\n",
       "      <td>Mary Berry&amp;#x27;s fish pie</td>\n",
       "      <td>6.0</td>\n",
       "      <td>['75g/3oz butter, plus extra for greasing', '1...</td>\n",
       "      <td>['Preheat the oven 200C/400F/Gas 6.  Grease a ...</td>\n",
       "    </tr>\n",
       "    <tr>\n",
       "      <th>2</th>\n",
       "      <td>2</td>\n",
       "      <td>Vegan mushroom stroganoff  recipe - BBC Food</td>\n",
       "      <td>https://www.bbc.co.uk/food/recipes/vegan_mushr...</td>\n",
       "      <td>./DATA//Vegan mushroom stroganoff  recipe - BB...</td>\n",
       "      <td>Vegan mushroom stroganoff</td>\n",
       "      <td>2.0</td>\n",
       "      <td>['160g/5¾oz dried pappardelle or fettuccine pa...</td>\n",
       "      <td>['Cook the pasta in a large saucepan of salted...</td>\n",
       "    </tr>\n",
       "    <tr>\n",
       "      <th>3</th>\n",
       "      <td>3</td>\n",
       "      <td>Speedy sweet and sour pork recipe - BBC Food</td>\n",
       "      <td>https://www.bbc.co.uk/food/recipes/speedy_swee...</td>\n",
       "      <td>./DATA//Speedy sweet and sour pork recipe - BB...</td>\n",
       "      <td>Speedy sweet and sour pork</td>\n",
       "      <td>6.0</td>\n",
       "      <td>['450g/1lb white rice', '600g/1lb 5oz pork min...</td>\n",
       "      <td>['Put the rice in a large saucepan, cover with...</td>\n",
       "    </tr>\n",
       "    <tr>\n",
       "      <th>4</th>\n",
       "      <td>4</td>\n",
       "      <td>Cherry scones recipe - BBC Food</td>\n",
       "      <td>https://www.bbc.co.uk/food/recipes/scones_35420</td>\n",
       "      <td>./DATA//Cherry scones recipe - BBC Food.html</td>\n",
       "      <td>Cherry scones</td>\n",
       "      <td>8.0</td>\n",
       "      <td>['225g/8oz self-raising flour, plus extra for ...</td>\n",
       "      <td>['Preheat the oven to 200C/Fan 180C/Gas 6. Lin...</td>\n",
       "    </tr>\n",
       "  </tbody>\n",
       "</table>\n",
       "</div>"
      ],
      "text/plain": [
       "   Unnamed: 0                                         title  \\\n",
       "0           0           Vegetable dhansak recipe - BBC Food   \n",
       "1           1       Mary Berry's fish pie recipe - BBC Food   \n",
       "2           2  Vegan mushroom stroganoff  recipe - BBC Food   \n",
       "3           3  Speedy sweet and sour pork recipe - BBC Food   \n",
       "4           4               Cherry scones recipe - BBC Food   \n",
       "\n",
       "                                                 url  \\\n",
       "0  https://www.bbc.co.uk/food/recipes/vegetable_d...   \n",
       "1  https://www.bbc.co.uk/food/recipes/mary_berrys...   \n",
       "2  https://www.bbc.co.uk/food/recipes/vegan_mushr...   \n",
       "3  https://www.bbc.co.uk/food/recipes/speedy_swee...   \n",
       "4    https://www.bbc.co.uk/food/recipes/scones_35420   \n",
       "\n",
       "                                        path_to_file  \\\n",
       "0   ./DATA//Vegetable dhansak recipe - BBC Food.html   \n",
       "1  ./DATA//Mary Berry's fish pie recipe - BBC Foo...   \n",
       "2  ./DATA//Vegan mushroom stroganoff  recipe - BB...   \n",
       "3  ./DATA//Speedy sweet and sour pork recipe - BB...   \n",
       "4       ./DATA//Cherry scones recipe - BBC Food.html   \n",
       "\n",
       "                 recipe_title  recipe_servings  \\\n",
       "0           Vegetable dhansak              4.0   \n",
       "1  Mary Berry&#x27;s fish pie              6.0   \n",
       "2  Vegan mushroom stroganoff               2.0   \n",
       "3  Speedy sweet and sour pork              6.0   \n",
       "4               Cherry scones              8.0   \n",
       "\n",
       "                                  recipe_ingredients  \\\n",
       "0  ['1 small cauliflower, cut into small florets'...   \n",
       "1  ['75g/3oz butter, plus extra for greasing', '1...   \n",
       "2  ['160g/5¾oz dried pappardelle or fettuccine pa...   \n",
       "3  ['450g/1lb white rice', '600g/1lb 5oz pork min...   \n",
       "4  ['225g/8oz self-raising flour, plus extra for ...   \n",
       "\n",
       "                                        recipe_steps  \n",
       "0  ['Preheat the oven to 200C/180C Fan/Gas 6.', '...  \n",
       "1  ['Preheat the oven 200C/400F/Gas 6.  Grease a ...  \n",
       "2  ['Cook the pasta in a large saucepan of salted...  \n",
       "3  ['Put the rice in a large saucepan, cover with...  \n",
       "4  ['Preheat the oven to 200C/Fan 180C/Gas 6. Lin...  "
      ]
     },
     "execution_count": 42,
     "metadata": {},
     "output_type": "execute_result"
    }
   ],
   "source": [
    "df.head()"
   ]
  },
  {
   "cell_type": "code",
   "execution_count": 46,
   "id": "5329a685",
   "metadata": {},
   "outputs": [],
   "source": [
    "def create_index(row,index_dict):\n",
    "    s = row['recipe_ingredients']\n",
    "    s = s[1:-1]\n",
    "\n",
    "    pattern = r'\\'|\\\"|,'\n",
    "    s = re.sub(pattern, '', s)\n",
    "    title = row['recipe_title'].strip()\n",
    "    pattern2 = r'\\s'\n",
    "    s = re.sub(pattern2, r'\\t',s)\n",
    "    s = s.split(\"\\t\")\n",
    "\n",
    "    ingred = list()\n",
    "    for word in s:    \n",
    "        if word in stopwords.words('english') or bool(re.search(r'\\d', word)):\n",
    "            continue\n",
    "        stem = porter_stemmer.stem(word)\n",
    "        if stem in index_dict:\n",
    "            index_dict[stem].append(title)\n",
    "        else:\n",
    "            index_dict[stem] = list()\n",
    "            index_dict[stem].append(title)\n",
    "    return row"
   ]
  },
  {
   "cell_type": "code",
   "execution_count": 47,
   "id": "fd5d2967",
   "metadata": {},
   "outputs": [
    {
     "name": "stdout",
     "output_type": "stream",
     "text": [
      "Wall time: 1min 6s\n"
     ]
    }
   ],
   "source": [
    "%%time\n",
    "index_dict = dict()\n",
    "df = df.apply(lambda row: create_index(row,index_dict), axis=1)"
   ]
  },
  {
   "cell_type": "code",
   "execution_count": 90,
   "id": "934d229d",
   "metadata": {
    "scrolled": false
   },
   "outputs": [],
   "source": [
    "def searchRecipesByInput(x):\n",
    "    input_arr = x.split(\" \")\n",
    "    resultList = list()\n",
    "    for word in input_arr:\n",
    "        stem = porter_stemmer.stem(word)        \n",
    "        if stem in index_dict:\n",
    "            resultList.extend(index_dict[stem])\n",
    "    result = Counter(resultList)\n",
    "    result = result.most_common(10)\n",
    "    return result"
   ]
  },
  {
   "cell_type": "code",
   "execution_count": 93,
   "id": "5b3144c6",
   "metadata": {},
   "outputs": [
    {
     "name": "stdout",
     "output_type": "stream",
     "text": [
      "Enter food:\n",
      "beef\n",
      "1.Recipe- Steamed steak and onion pudding with mashed potato, Score - 7\n",
      "2.Recipe- Steak and kidney pudding with onion gravy, Score - 6\n",
      "3.Recipe- One-layer lasagne, Score - 4\n",
      "4.Recipe- Beef and chorizo stew, Score - 4\n",
      "5.Recipe- Roast peppered beef with bourbon mustard and all the trimmings, Score - 4\n",
      "6.Recipe- Low-fat beef and potato pies, Score - 3\n",
      "7.Recipe- Beef stroganoff, Score - 3\n",
      "8.Recipe- Meatballs in gravy, Score - 3\n",
      "9.Recipe- Yorkshire puddings with black pudding and beer and onion gravy, Score - 3\n",
      "10.Recipe- The Hairy Bikers&#x27; braised steak with gravy, Score - 3\n"
     ]
    }
   ],
   "source": [
    "print('Enter food:')\n",
    "x = input()\n",
    "recipes = searchRecipesByInput(x)\n",
    "for index,recipe in enumerate(recipes):\n",
    "    print(\"{}.Recipe- {}, Score - {}\".format(index+1,recipe[0],recipe[1]))"
   ]
  }
 ],
 "metadata": {
  "kernelspec": {
   "display_name": "Python 3",
   "language": "python",
   "name": "python3"
  },
  "language_info": {
   "codemirror_mode": {
    "name": "ipython",
    "version": 3
   },
   "file_extension": ".py",
   "mimetype": "text/x-python",
   "name": "python",
   "nbconvert_exporter": "python",
   "pygments_lexer": "ipython3",
   "version": "3.8.11"
  }
 },
 "nbformat": 4,
 "nbformat_minor": 5
}
