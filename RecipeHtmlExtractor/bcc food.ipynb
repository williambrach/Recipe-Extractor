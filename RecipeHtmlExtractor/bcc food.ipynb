{
 "cells": [
  {
   "cell_type": "code",
   "execution_count": 60,
   "id": "3b7d0e37",
   "metadata": {},
   "outputs": [],
   "source": [
    "import re\n",
    "import pandas as pd\n",
    "import numpy as np\n",
    "import os"
   ]
  },
  {
   "cell_type": "code",
   "execution_count": 77,
   "id": "e8459ca1",
   "metadata": {},
   "outputs": [],
   "source": [
    "df = pd.read_csv(r\"..\\RecipeLinkExtractor\\DATA\\bbc_food_clean.csv\",sep=\"\\t\",index_col=0)\n",
    "df.head()\n",
    "df['recipe_title'] = None\n",
    "df['recipe_servings'] = None\n",
    "df['recipe_ingredients'] = None\n",
    "df['recipe_steps'] = None"
   ]
  },
  {
   "cell_type": "code",
   "execution_count": 81,
   "id": "bb0d3401",
   "metadata": {},
   "outputs": [],
   "source": [
    "def extractRecipe(row):\n",
    "    html_path = \"..\\RecipeLinkExtractor\\DATA\"\n",
    "    html_path = html_path + \"\\\\\" + row['title'] + \".html\"\n",
    "    \n",
    "    if os.path.isfile(html_path):\n",
    "        with open(html_path, \"r\", encoding='utf-8') as f:\n",
    "            text= f.read()\n",
    "            try:\n",
    "                pattern = \"<h1 class=\\\"gel-trafalgar content-title__text\\\".*?>(.+?)</h1>\"\n",
    "                title = re.findall(pattern, text)[0]\n",
    "                row['recipe_title'] = title\n",
    "            except:\n",
    "                row['recipe_title'] = None\n",
    "                \n",
    "            try:\n",
    "                pattern = \"<p class=\\\"recipe-metadata__serving\\\".*?>(.+?)</p>\"\n",
    "                servings = re.findall(pattern, text)[0]\n",
    "                servings = re.sub(\"[^0-9]\",\"\", servings)\n",
    "                row['recipe_servings'] = servings\n",
    "            except:\n",
    "                row['recipe_servings'] = None\n",
    "                \n",
    "            try:    \n",
    "                pattern_remove = \"<[^>]*>\"\n",
    "                pattern = \"<ul class=\\\"recipe-ingredients__list\\\".*?>(.+?)</ul>\"\n",
    "                x = re.findall(pattern, text)\n",
    "                ingredients = list()\n",
    "                for y in x:\n",
    "                    y = re.sub(\"</li>\",\"\\n\",y)\n",
    "                    ingredients.extend([x.strip() for x in re.sub(pattern_remove,\"\",y).split(\"\\n\") if x != \"\"])\n",
    "                row['recipe_ingredients'] = ingredients\n",
    "            except:\n",
    "                row['recipe_ingredients'] = None\n",
    "                \n",
    "            try:\n",
    "                pattern = \"<ol class=\\\"recipe-method__list\\\".*?>(.+?)</ol>\"\n",
    "                pattern_remove = \"<[^>]*>\"\n",
    "                steps = list()\n",
    "                x = re.findall(pattern, text)\n",
    "                for y in x:\n",
    "                    y = re.sub(\"</li>\",\"\\n\",y)\n",
    "                    steps.extend([x.strip() for x in re.sub(pattern_remove,\"\",y).split(\"\\n\") if x != \"\"])\n",
    "                row['recipe_steps'] = steps\n",
    "            except:\n",
    "                row['recipe_steps'] = None\n",
    "                \n",
    "            return row\n",
    "    else:\n",
    "        print(\"file neexistuje.\",html_path)\n",
    "        return row"
   ]
  },
  {
   "cell_type": "code",
   "execution_count": 82,
   "id": "e700427e",
   "metadata": {},
   "outputs": [
    {
     "name": "stdout",
     "output_type": "stream",
     "text": [
      "Wall time: 4.36 s\n"
     ]
    }
   ],
   "source": [
    "%%time\n",
    "df = df.apply(lambda x: extractRecipe(x), axis=1)"
   ]
  },
  {
   "cell_type": "code",
   "execution_count": 85,
   "id": "6ce9f093",
   "metadata": {},
   "outputs": [],
   "source": [
    "df.to_csv(\"RecipeExtracted.csv\", sep=\"\\t\")"
   ]
  }
 ],
 "metadata": {
  "kernelspec": {
   "display_name": "Python 3",
   "language": "python",
   "name": "python3"
  },
  "language_info": {
   "codemirror_mode": {
    "name": "ipython",
    "version": 3
   },
   "file_extension": ".py",
   "mimetype": "text/x-python",
   "name": "python",
   "nbconvert_exporter": "python",
   "pygments_lexer": "ipython3",
   "version": "3.8.11"
  }
 },
 "nbformat": 4,
 "nbformat_minor": 5
}
